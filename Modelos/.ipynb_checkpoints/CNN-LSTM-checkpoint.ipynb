{
 "cells": [
  {
   "cell_type": "code",
   "execution_count": 1,
   "id": "53681de4",
   "metadata": {},
   "outputs": [],
   "source": [
    "import numpy as np\n",
    "import json\n",
    "import os\n",
    "import re\n",
    "import cv2\n",
    "import mediapipe as mp\n",
    "import gc\n",
    "import matplotlib.pyplot as plt\n",
    "import tensorflow as tf\n",
    "# tf.config.gpu.set_per_process_memory_fraction(0.75)\n",
    "# tf.config.gpu.set_per_process_memory_growth(True)\n",
    "# from tensorflow.keras.applications import VGG16, InceptionV3, inception_v3\n",
    "from tensorflow.keras.layers import *\n",
    "from tensorflow.keras.models import Model\n",
    "from tensorflow.keras.regularizers import l2\n",
    "# from tensorflow.keras.utils import to_categorical"
   ]
  },
  {
   "cell_type": "code",
   "execution_count": 2,
   "id": "0118becb",
   "metadata": {},
   "outputs": [],
   "source": [
    "x_train, y_train = np.load('DataSet/v2_64/Training/x_train.npy'), np.load('DataSet/v2_64/Training/y_train.npy')\n",
    "x_val, y_val = np.load('DataSet/v2_64/Validating/x_val.npy'), np.load('DataSet/v2_64/Validating/y_val.npy')"
   ]
  },
  {
   "cell_type": "code",
   "execution_count": 3,
   "id": "704e3d77",
   "metadata": {},
   "outputs": [],
   "source": [
    "def CNN_RNN_modelo():\n",
    "    imagen = Input((50,50,3))\n",
    "    #Bloque 1\n",
    "    X = Conv2D(8, (3,3), activation='relu', name='conv1')(imagen)\n",
    "    X = BatchNormalization(name = 'bn_conv1')(X)\n",
    "    X = Activation('relu')(X)\n",
    "    X = MaxPooling2D(4, 4, name = 'max_conv1')(X)\n",
    "    #Bloque 2\n",
    "    X = Conv2D(16, (3,3), activation='relu', name='conv2')(X)\n",
    "    X = BatchNormalization(name = 'bn_conv2')(X)\n",
    "    X = Activation('relu')(X)\n",
    "    X = MaxPooling2D(2, 2, name = 'max_conv2')(X)\n",
    "    #Bloque 3\n",
    "    X = Conv2D(32, (3,3), activation='relu', name='conv3')(X)\n",
    "    X = BatchNormalization(name = 'bn_conv3')(X)\n",
    "    X = Activation('relu')(X)\n",
    "    #Bloque 4\n",
    "    X = Flatten()(X)\n",
    "    cnn = Model(imagen, X)\n",
    "    cnn.trainable = False\n",
    "    #RNN\n",
    "    #Bloque 1\n",
    "    video = Input(shape=(64, 50, 50, 3))\n",
    "    encoded_frames = TimeDistributed(cnn)(video)\n",
    "    #Bloque 2\n",
    "    encoded_sequence = LSTM(128)(encoded_frames)\n",
    "    dropout = Dropout(.2)(encoded_sequence)\n",
    "    hidden_layer = Dense(64, activation=\"relu\")(dropout)\n",
    "    outputs = Dense(20, activation=\"softmax\")(hidden_layer)\n",
    "    return Model([video], outputs)"
   ]
  },
  {
   "cell_type": "code",
   "execution_count": 4,
   "id": "cb85b1ae",
   "metadata": {},
   "outputs": [],
   "source": [
    "def grid_Search(lr, bz, ep, x_train, y_train, x_val, y_val):\n",
    "    model = CNN_RNN_modelo()\n",
    "    optimizer =  tf.keras.optimizers.Nadam(learning_rate=lr,\n",
    "                  beta_1=0.9,\n",
    "                  beta_2=0.999,\n",
    "                  epsilon=1e-08,\n",
    "                  schedule_decay=0.006)\n",
    "    model.compile(optimizer=optimizer,\n",
    "                loss='categorical_crossentropy',\n",
    "                metrics=['accuracy'])\n",
    "    print(f'Modelo: lr={lr}, bz={bz}, ep={ep}')\n",
    "    history = model.fit(x_train, y_train,\n",
    "         epochs=ep,\n",
    "         batch_size=bz,\n",
    "         validation_data=(x_val, y_val),\n",
    "         verbose=1)\n",
    "    gc.collect()\n",
    "    accuracy = history.history['accuracy'][-1]\n",
    "    val_accuracy = history.history['val_accuracy'][-1]\n",
    "    if (accuracy and val_accuracy > 70 and accuracy - val_accuracy <= 5):\n",
    "    model.save(f'drive/MyDrive/Logs/Modelo-{lr}-{bz}-{ep}.h5') \n",
    "    history_dict = history.history\n",
    "    json.dump(history_dict, open(f'drive/MyDrive/Logs/Modelo-{lr}-{bz}-{ep}.json', 'w'))\n",
    "    del model\n",
    "    del history\n",
    "    return accuracy, val_accuracy"
   ]
  },
  {
   "cell_type": "code",
   "execution_count": 21,
   "id": "71082b34",
   "metadata": {},
   "outputs": [],
   "source": [
    "lrs = [0.00003,0.00002,0.00001,0.000009,0.000008]\n",
    "bzs = [6,16,24]\n",
    "epochs = 200\n",
    "img_vid = 64\n",
    "arq = 'CNN-LSTM'\n",
    "for bz in bzs: \n",
    "    for lr in lrs:\n",
    "    ac, val_ac = grid_Search(lr, bz, epochs, x_train, y_train, x_val, y_val)\n",
    "    results_list = [\n",
    "        arq,\n",
    "        img_vid,\n",
    "        epochs,\n",
    "        lr,\n",
    "        bz,\n",
    "        ac,\n",
    "        val_ac\n",
    "    ]\n",
    "    with open('drive/MyDrive/Logs/Logs.csv', 'a', newline='') as f_object:  \n",
    "        writer_object = writer(f_object)\n",
    "        writer_object.writerow(results_list)  \n",
    "        f_object.close()"
   ]
  }
 ],
 "metadata": {
  "kernelspec": {
   "display_name": "gpu1",
   "language": "python",
   "name": "gpu1"
  },
  "language_info": {
   "codemirror_mode": {
    "name": "ipython",
    "version": 3
   },
   "file_extension": ".py",
   "mimetype": "text/x-python",
   "name": "python",
   "nbconvert_exporter": "python",
   "pygments_lexer": "ipython3",
   "version": "3.6.13"
  }
 },
 "nbformat": 4,
 "nbformat_minor": 5
}
