{
 "cells": [
  {
   "cell_type": "code",
   "execution_count": 1,
   "id": "8e7428bf",
   "metadata": {},
   "outputs": [],
   "source": [
    "import numpy as np\n",
    "import json\n",
    "import os\n",
    "import re\n",
    "import cv2\n",
    "import mediapipe as mp\n",
    "import gc\n",
    "import matplotlib.pyplot as plt\n",
    "import tensorflow as tf\n",
    "from tensorflow.keras.applications import VGG16\n",
    "from tensorflow.keras.layers import *\n",
    "from tensorflow.keras.models import Model\n",
    "from tensorflow.keras.regularizers import l2"
   ]
  },
  {
   "cell_type": "code",
   "execution_count": 2,
   "id": "ae1b0a83",
   "metadata": {},
   "outputs": [],
   "source": [
    "x_train, y_train = np.load('DataSet/v2_64/Training/x_train.npy'), np.load('DataSet/v2_64/Training/y_train.npy')\n",
    "x_val, y_val = np.load('DataSet/v2_64/Validating/x_val.npy'), np.load('DataSet/v2_64/Validating/y_val.npy')"
   ]
  },
  {
   "cell_type": "code",
   "execution_count": null,
   "id": "9ab4fe6b",
   "metadata": {},
   "outputs": [],
   "source": [
    "def ResNet_LSTM(frames, rows, columns, channels):\n",
    "    video = Input(shape=(frames,\n",
    "                         rows,\n",
    "                         columns,\n",
    "                         channels))\n",
    "    cnn_base = VGG16(input_shape=(rows,\n",
    "                                  columns,\n",
    "                                  channels),\n",
    "                     weights=\"imagenet\",\n",
    "                     include_top=False)\n",
    "    cnn_out = GlobalAveragePooling2D()(cnn_base.output)\n",
    "    cnn = Model(cnn_base.input, cnn_out)\n",
    "    cnn.trainable = False\n",
    "    encoded_frames = TimeDistributed(cnn)(video)\n",
    "    encoded_sequence = Bidirectional(LSTM(128))(encoded_frames)\n",
    "    hidden_layer = Dense(128, activation=\"relu\")(encoded_sequence)\n",
    "    outputs = Dense(20, activation=\"softmax\")(hidden_layer)\n",
    "    model = Model([video], outputs)"
   ]
  },
  {
   "cell_type": "code",
   "execution_count": null,
   "id": "44aa5e60",
   "metadata": {},
   "outputs": [],
   "source": [
    "def grid_Search(lr, bz, ep, x_train, y_train, x_val, y_val, model):\n",
    "    modelo = model\n",
    "    adam = tf.keras.optimizers.Adam(learning_rate=lr)\n",
    "    modelo.compile(optimizer=adam,\n",
    "                loss='categorical_crossentropy',\n",
    "                metrics=['accuracy'])\n",
    "    print(f'Modelo: lr={lr}, bz={bz}, ep={ep}')\n",
    "    history = modelo.fit(x_train, y_train,\n",
    "         epochs=ep,\n",
    "         batch_size=bz,\n",
    "         validation_data=(x_val, y_val),\n",
    "         verbose=1)\n",
    "    gc.collect()\n",
    "    accuracy = history.history['accuracy'][-1]\n",
    "    val_acuracy = history.history['val_accuracy'][-1]\n",
    "    # if (history.history['accuracy'][-1] and history.history['val_accuracy'][-1] > 70 and history.history['accuracy'][-1] - history.history['val_accuracy'][-1] <= 5):\n",
    "    #   model.save(f'Modelo{lr}-{bz}-{ep}')\n",
    "    del modelo\n",
    "    del history\n",
    "    time.sleep(5)\n",
    "    return accuracy, val_acuracy"
   ]
  },
  {
   "cell_type": "code",
   "execution_count": null,
   "id": "cfb5b837",
   "metadata": {},
   "outputs": [],
   "source": [
    "lrs = [0.000002,0.000001,0.000003]\n",
    "bzs = [2,8,16]\n",
    "epochs = 100 \n",
    "results = []\n",
    "modelo = CNN_RNN_modelo()\n",
    "for bz in bzs: \n",
    "    for lr in lrs:\n",
    "    ac, val_ac = grid_Search(lr, bz, epochs, x_train, y_train, x_val, y_val, modelo)\n",
    "    results_dict = {\n",
    "        'accuracy': ac,\n",
    "        'val_accuracy': val_ac,\n",
    "        'batch_size': bz,\n",
    "        'learning_rate': lr,\n",
    "        'epochs': epochs\n",
    "    }\n",
    "    results.append(results_dict)"
   ]
  }
 ],
 "metadata": {
  "kernelspec": {
   "display_name": "gpu1",
   "language": "python",
   "name": "gpu1"
  },
  "language_info": {
   "codemirror_mode": {
    "name": "ipython",
    "version": 3
   },
   "file_extension": ".py",
   "mimetype": "text/x-python",
   "name": "python",
   "nbconvert_exporter": "python",
   "pygments_lexer": "ipython3",
   "version": "3.6.13"
  }
 },
 "nbformat": 4,
 "nbformat_minor": 5
}
