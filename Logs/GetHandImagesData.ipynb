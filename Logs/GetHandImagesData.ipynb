{
 "cells": [
  {
   "cell_type": "code",
   "execution_count": 1,
   "id": "e099ca6c",
   "metadata": {},
   "outputs": [],
   "source": [
    "import cv2\n",
    "import os\n",
    "import re\n",
    "import matplotlib.pyplot as plt\n",
    "import math\n",
    "import time\n",
    "import mediapipe as mp\n",
    "import numpy as np\n",
    "import Utils as utils"
   ]
  },
  {
   "cell_type": "code",
   "execution_count": 2,
   "id": "618e1142",
   "metadata": {},
   "outputs": [],
   "source": [
    "def sorted_alphanumeric(data):\n",
    "    convert = lambda text: int(text) if text.isdigit() else text.lower()\n",
    "    alphanum_key = lambda key: [ convert(c) for c in re.split('([0-9]+)', key) ] \n",
    "    return sorted(data, key=alphanum_key)"
   ]
  },
  {
   "cell_type": "code",
   "execution_count": 3,
   "id": "ef9d12d6",
   "metadata": {},
   "outputs": [],
   "source": [
    "mp_holistic = mp.solutions.holistic\n",
    "mp_drawing = mp.solutions.drawing_utils\n",
    "mp_hands = mp.solutions.hands\n",
    "# path = 'C://Users//juan.guevara01//Documents//Tesis//Videos//VideosInstitutoCreSer//Lsec_001'\n",
    "# path_test = 'Videos//FrameTrain'\n",
    "\n",
    "def mediapipe_detection(image, model):\n",
    "    image = cv2.cvtColor(image, cv2.COLOR_BGR2RGB)\n",
    "    image.flags.writeable = False\n",
    "    results = model.process(image)\n",
    "    image.flags.writeable = True\n",
    "    image = cv2.cvtColor(image, cv2.COLOR_RGB2BGR)\n",
    "    return image, results\n",
    "\n",
    "def draw_styled_landmarks(image, results):\n",
    "#     mp_drawing.draw_landmarks(image, \n",
    "#                             results.pose_landmarks, \n",
    "#                             mp_holistic.POSE_CONNECTIONS) # Draw pose connections\n",
    "\n",
    "    mp_drawing.draw_landmarks(image, \n",
    "                              results.right_hand_landmarks, \n",
    "                              mp_holistic.HAND_CONNECTIONS,\n",
    "                              mp_drawing.DrawingSpec(color=(80,110,10), thickness=1, circle_radius=1))\n",
    "    mp_drawing.draw_landmarks(image, \n",
    "                              results.left_hand_landmarks, \n",
    "                              mp_holistic.HAND_CONNECTIONS,\n",
    "                              mp_drawing.DrawingSpec(color=(234,23,10), thickness=1, circle_radius=1))\n",
    "def extract_keypoints(results):\n",
    "    #pose = np.array([[res.x, res.y, res.z, res.visibility] for res in results.pose_landmarks.landmark]).flatten() if results.pose_landmarks.landmark else np.zeros(132)\n",
    "    lh = np.array([[res.x, res.y, res.z] for res in results.left_hand_landmarks.landmark]).flatten() if results.left_hand_landmarks else np.zeros(21*3)\n",
    "    rh = np.array([[res.x, res.y, res.z] for res in results.right_hand_landmarks.landmark]).flatten() if results.right_hand_landmarks else np.zeros(21*3)\n",
    "    return np.concatenate([lh,rh])\n",
    "\n",
    "def extract_keypoints_V3(results):\n",
    "    rh_x = [res.x for res in results.right_hand_landmarks.landmark] if results.right_hand_landmarks else []\n",
    "    lh_x = [res.x for res in results.left_hand_landmarks.landmark] if results.left_hand_landmarks else []\n",
    "    rh_y = [res.y for res in results.right_hand_landmarks.landmark] if results.right_hand_landmarks else []\n",
    "    lh_y = [res.y for res in results.left_hand_landmarks.landmark] if results.left_hand_landmarks else []\n",
    "    if(lh_y and lh_x):\n",
    "        if(min(lh_y) >= 1):\n",
    "            lh_y = []\n",
    "        if(min(lh_x) >= 1):\n",
    "            lh_x = []\n",
    "    if(rh_y and rh_x):\n",
    "        if(min(rh_y) >= 1):\n",
    "            rh_y = []\n",
    "        if(min(rh_x) >= 1):\n",
    "            rh_x = []\n",
    "    return rh_x,rh_y,lh_x,lh_y\n",
    "\n",
    "def find_max_min(keypoints_x, keypoints_y):\n",
    "    x_min = int(min(keypoints_x)*480-5)\n",
    "    x_max = int(max(keypoints_x)*480+5)\n",
    "    y_min = int(min(keypoints_y)*360-5)\n",
    "    y_max = int(max(keypoints_y)*360)\n",
    "    if(x_min < 0):\n",
    "        x_min = 0\n",
    "    if(y_min < 0):\n",
    "        y_min = 0\n",
    "    if(y_max > 360):\n",
    "        y_max = 360\n",
    "    if(x_max > 480):\n",
    "        x_max = 480\n",
    "    return x_min, x_max, y_min, y_max\n",
    "\n",
    "def save_img(keypoints_x, keypoints_y, image, count_1, count_2):\n",
    "    x_min, x_max, y_min, y_max = find_max_min(keypoints_x,keypoints_y)\n",
    "    hand_image = cv2.resize(image[y_min:y_max , x_min:x_max], (50,50))\n",
    "    filename = \"TestData/Lsec_\"+str(count_1)+\"/\"+str(count_2)+\".jpg\"\n",
    "    cv2.imwrite(filename, hand_image)"
   ]
  },
  {
   "cell_type": "code",
   "execution_count": 60,
   "id": "c25f7dd9",
   "metadata": {},
   "outputs": [],
   "source": [
    "pathOrigen = 'C:\\\\Users\\\\juan.guevara01\\\\Documents\\\\Tesis\\\\Videos\\\\Version1\\\\Validating\\\\'\n",
    "directory_list = os.listdir(pathOrigen)\n",
    "count_1 = 6\n",
    "count_2 = 0"
   ]
  },
  {
   "cell_type": "code",
   "execution_count": 61,
   "id": "a617e414",
   "metadata": {},
   "outputs": [
    {
     "name": "stdout",
     "output_type": "stream",
     "text": [
      "Done!\n"
     ]
    }
   ],
   "source": [
    "with mp_holistic.Holistic(\n",
    "    min_detection_confidence=0.5,\n",
    "    min_tracking_confidence=0.5\n",
    "    ) as holistic:\n",
    "    for directory in directory_list:\n",
    "        videoFiles = sorted_alphanumeric(os.listdir(pathOrigen+directory))\n",
    "        count_2 = 0\n",
    "        for videoFile in videoFiles:\n",
    "            cap = cv2.VideoCapture(pathOrigen+'\\\\'+directory+'\\\\'+videoFile)\n",
    "            while(cap.isOpened()):\n",
    "                frameId = cap.get(1)\n",
    "                ret, frame = cap.read()\n",
    "                if (ret != True):\n",
    "                    break\n",
    "                if (frameId % 2 == 0):\n",
    "                    if(not frame.shape == (360, 480, 3)):\n",
    "                        frame = cv2.resize(frame, (480,360))\n",
    "                    image, results = mediapipe_detection(frame, holistic)\n",
    "                    rh_keypoints_x, rh_keypoints_y, lh_keypoints_x, lh_keypoints_y = extract_keypoints_V3(results)\n",
    "                    if(rh_keypoints_x and rh_keypoints_y):\n",
    "                        save_img(rh_keypoints_x, rh_keypoints_y, image, count_1, count_2)\n",
    "                        count_2 += 1\n",
    "                    if(lh_keypoints_x and lh_keypoints_y):\n",
    "                        save_img(lh_keypoints_x, lh_keypoints_y, image, count_1, count_2)\n",
    "                        count_2 += 1\n",
    "            cap.release()\n",
    "        count_1 += 1\n",
    "print(\"Done!\")"
   ]
  },
  {
   "cell_type": "markdown",
   "id": "8d1a6e14",
   "metadata": {},
   "source": [
    "# Modo Reducido"
   ]
  },
  {
   "cell_type": "code",
   "execution_count": 4,
   "id": "e1c6257f",
   "metadata": {},
   "outputs": [],
   "source": [
    "pathOrigen = 'C:\\\\Users\\\\juan.guevara01\\\\Documents\\\\Tesis\\\\Videos\\\\Version1\\\\Validating\\\\'\n",
    "pathDestino = 'DataSet/Validating'\n",
    "videoFiles = utils.sorted_alphanumeric(os.listdir(pathOrigen))\n",
    "count_1 = 0\n",
    "count_2 = 0"
   ]
  },
  {
   "cell_type": "code",
   "execution_count": 6,
   "id": "5f0bb7e9",
   "metadata": {},
   "outputs": [],
   "source": [
    "mp_holistic = mp.solutions.holistic\n",
    "mp_drawing = mp.solutions.drawing_utils\n",
    "mp_hands = mp.solutions.hands"
   ]
  },
  {
   "cell_type": "code",
   "execution_count": 7,
   "id": "4d1b70c5",
   "metadata": {},
   "outputs": [],
   "source": [
    "def save_img(keypoints_x, keypoints_y, image, filename):\n",
    "    x_min, x_max, y_min, y_max = utils.find_max_min(keypoints_x,keypoints_y)\n",
    "    hand_image = cv2.resize(image[y_min:y_max , x_min:x_max], (50,50))\n",
    "    cv2.imwrite(filename, hand_image)"
   ]
  },
  {
   "cell_type": "code",
   "execution_count": 8,
   "id": "d214dbe3",
   "metadata": {},
   "outputs": [
    {
     "name": "stdout",
     "output_type": "stream",
     "text": [
      "Done!\n"
     ]
    }
   ],
   "source": [
    "with mp_holistic.Holistic(\n",
    "    min_detection_confidence=0.5,\n",
    "    min_tracking_confidence=0.5\n",
    "    ) as holistic:\n",
    "    for directory in utils.sorted_alphanumeric(os.listdir(pathOrigen)):\n",
    "        count_1 += 1\n",
    "        for video_file in utils.sorted_alphanumeric(os.listdir(pathOrigen+directory)):\n",
    "            cap = cv2.VideoCapture(pathOrigen+directory+'\\\\'+video_file)\n",
    "            while(cap.isOpened()):\n",
    "                frameId = cap.get(1)\n",
    "                ret, frame = cap.read()\n",
    "                if (ret != True):\n",
    "                    break\n",
    "                if(not frame.shape == (360, 480, 3)):\n",
    "                    frame = cv2.resize(frame, (480,360))\n",
    "                image, results = utils.mediapipe_detection(frame, holistic)\n",
    "                rh_keypoints_x, rh_keypoints_y, lh_keypoints_x, lh_keypoints_y = utils.extract_keypoints_V3(results)\n",
    "                if(rh_keypoints_x and rh_keypoints_y):\n",
    "                    path_destino = pathDestino+'/Lsec_'+str(count_1)+'/'+str(count_2)+'.jpg'\n",
    "                    save_img(rh_keypoints_x, rh_keypoints_y, image, path_destino)\n",
    "                    count_2 += 1\n",
    "                if(lh_keypoints_x and lh_keypoints_y):\n",
    "                    path_destino = pathDestino+'/Lsec_'+str(count_1)+'/'+str(count_2)+'.jpg'\n",
    "                    save_img(lh_keypoints_x, lh_keypoints_y, image, path_destino)\n",
    "                    count_2 += 1\n",
    "            cap.release()\n",
    "print(\"Done!\")"
   ]
  },
  {
   "cell_type": "code",
   "execution_count": null,
   "id": "2be0ceea",
   "metadata": {},
   "outputs": [],
   "source": []
  }
 ],
 "metadata": {
  "kernelspec": {
   "display_name": "gpu1",
   "language": "python",
   "name": "gpu1"
  },
  "language_info": {
   "codemirror_mode": {
    "name": "ipython",
    "version": 3
   },
   "file_extension": ".py",
   "mimetype": "text/x-python",
   "name": "python",
   "nbconvert_exporter": "python",
   "pygments_lexer": "ipython3",
   "version": "3.6.13"
  }
 },
 "nbformat": 4,
 "nbformat_minor": 5
}
